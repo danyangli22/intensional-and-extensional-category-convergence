{
 "cells": [
  {
   "cell_type": "code",
   "execution_count": 5,
   "metadata": {},
   "outputs": [],
   "source": [
    "import pandas as pd\n",
    "import numpy as np\n",
    "from itertools import combinations\n",
    "import spacy\n",
    "from sklearn.metrics.pairwise import cosine_similarity\n",
    "from spacy.lang.en.examples import sentences "
   ]
  },
  {
   "cell_type": "code",
   "execution_count": 8,
   "metadata": {},
   "outputs": [],
   "source": [
    "nlp = spacy.load(\"en_core_web_sm\")"
   ]
  },
  {
   "cell_type": "code",
   "execution_count": 92,
   "metadata": {},
   "outputs": [],
   "source": [
    "df = pd.read_csv('/Users/dougl/Desktop/Categories/Definitions_Ext/final_def_data_FULL.csv', encoding='cp1252', na_values=['nan'])\n",
    "#df.head()"
   ]
  },
  {
   "cell_type": "code",
   "execution_count": 12,
   "metadata": {},
   "outputs": [],
   "source": [
    "pd.set_option('display.max_colwidth', 0)"
   ]
  },
  {
   "cell_type": "code",
   "execution_count": 80,
   "metadata": {},
   "outputs": [],
   "source": [
    "clu_ids = set(df[\"instance_id\"])\n",
    "clu_wordembedding_concentration_data = []\n",
    "clu_wordembedding_concentration_dists = {}\n",
    "clu_wordembedding_concreteness_dists = {}"
   ]
  },
  {
   "cell_type": "code",
   "execution_count": 81,
   "metadata": {},
   "outputs": [],
   "source": [
    "for clu_id in clu_ids:\n",
    "    clu_id_data = df[(df[\"instance_id\"]==clu_id)]\n",
    "    categories = set(clu_id_data['label'])\n",
    "    currN = list(set(clu_id_data['N']))[0]\n",
    "    \n",
    "    for category in categories:\n",
    "        cat_data = clu_id_data[(clu_id_data[\"label\"]==category)]\n",
    "        clu_id_words = [str(x).split(\" \") for x in list(cat_data[\"definition\"])]\n",
    "        combo_def = \" \".join([\" \".join(x) for x in clu_id_words])\n",
    "        \n",
    "        if not(clu_id_words): continue\n",
    "        clu_doc = nlp(combo_def)\n",
    "        doc_vec = clu_doc.vector\n",
    "        similarities = []\n",
    "        for word_idx, word in enumerate(clu_doc):\n",
    "            wordstr = str(word)\n",
    "            word_vec = clu_doc[word_idx].vector        \n",
    "            if sum(word_vec) == 0.0: continue\n",
    "            cos_sim = cosine_similarity([word_vec],[doc_vec])\n",
    "            similarities.append(cos_sim)\n",
    "        clu_wordembedding_concentration_data.append([currN,clu_id,category,np.mean(similarities)])    "
   ]
  },
  {
   "cell_type": "code",
   "execution_count": 93,
   "metadata": {},
   "outputs": [],
   "source": [
    "#clu_wordembedding_concentration_data"
   ]
  },
  {
   "cell_type": "code",
   "execution_count": 89,
   "metadata": {},
   "outputs": [],
   "source": [
    "df = pd.DataFrame(clu_wordembedding_concentration_data)"
   ]
  },
  {
   "cell_type": "code",
   "execution_count": 90,
   "metadata": {},
   "outputs": [
    {
     "data": {
      "text/html": [
       "<div>\n",
       "<style scoped>\n",
       "    .dataframe tbody tr th:only-of-type {\n",
       "        vertical-align: middle;\n",
       "    }\n",
       "\n",
       "    .dataframe tbody tr th {\n",
       "        vertical-align: top;\n",
       "    }\n",
       "\n",
       "    .dataframe thead th {\n",
       "        text-align: right;\n",
       "    }\n",
       "</style>\n",
       "<table border=\"1\" class=\"dataframe\">\n",
       "  <thead>\n",
       "    <tr style=\"text-align: right;\">\n",
       "      <th></th>\n",
       "      <th>N</th>\n",
       "      <th>instance_id</th>\n",
       "      <th>label</th>\n",
       "      <th>similarity</th>\n",
       "    </tr>\n",
       "  </thead>\n",
       "  <tbody>\n",
       "    <tr>\n",
       "      <th>0</th>\n",
       "      <td>8</td>\n",
       "      <td>392</td>\n",
       "      <td>bell</td>\n",
       "      <td>0.246265</td>\n",
       "    </tr>\n",
       "    <tr>\n",
       "      <th>1</th>\n",
       "      <td>8</td>\n",
       "      <td>392</td>\n",
       "      <td>frog</td>\n",
       "      <td>0.214682</td>\n",
       "    </tr>\n",
       "    <tr>\n",
       "      <th>2</th>\n",
       "      <td>8</td>\n",
       "      <td>392</td>\n",
       "      <td>crab</td>\n",
       "      <td>0.286321</td>\n",
       "    </tr>\n",
       "    <tr>\n",
       "      <th>3</th>\n",
       "      <td>8</td>\n",
       "      <td>393</td>\n",
       "      <td>x</td>\n",
       "      <td>0.228317</td>\n",
       "    </tr>\n",
       "    <tr>\n",
       "      <th>4</th>\n",
       "      <td>8</td>\n",
       "      <td>393</td>\n",
       "      <td>couch</td>\n",
       "      <td>0.219204</td>\n",
       "    </tr>\n",
       "    <tr>\n",
       "      <th>...</th>\n",
       "      <td>...</td>\n",
       "      <td>...</td>\n",
       "      <td>...</td>\n",
       "      <td>...</td>\n",
       "    </tr>\n",
       "    <tr>\n",
       "      <th>142</th>\n",
       "      <td>24</td>\n",
       "      <td>727</td>\n",
       "      <td>crab</td>\n",
       "      <td>0.237840</td>\n",
       "    </tr>\n",
       "    <tr>\n",
       "      <th>143</th>\n",
       "      <td>24</td>\n",
       "      <td>727</td>\n",
       "      <td>ball</td>\n",
       "      <td>0.264360</td>\n",
       "    </tr>\n",
       "    <tr>\n",
       "      <th>144</th>\n",
       "      <td>24</td>\n",
       "      <td>728</td>\n",
       "      <td>frog</td>\n",
       "      <td>0.233224</td>\n",
       "    </tr>\n",
       "    <tr>\n",
       "      <th>145</th>\n",
       "      <td>24</td>\n",
       "      <td>728</td>\n",
       "      <td>bunny</td>\n",
       "      <td>0.312912</td>\n",
       "    </tr>\n",
       "    <tr>\n",
       "      <th>146</th>\n",
       "      <td>24</td>\n",
       "      <td>728</td>\n",
       "      <td>crab</td>\n",
       "      <td>0.250754</td>\n",
       "    </tr>\n",
       "  </tbody>\n",
       "</table>\n",
       "<p>147 rows × 4 columns</p>\n",
       "</div>"
      ],
      "text/plain": [
       "      N  instance_id  label  similarity\n",
       "0    8   392          bell   0.246265  \n",
       "1    8   392          frog   0.214682  \n",
       "2    8   392          crab   0.286321  \n",
       "3    8   393          x      0.228317  \n",
       "4    8   393          couch  0.219204  \n",
       "..  ..   ...            ...       ...  \n",
       "142  24  727          crab   0.237840  \n",
       "143  24  727          ball   0.264360  \n",
       "144  24  728          frog   0.233224  \n",
       "145  24  728          bunny  0.312912  \n",
       "146  24  728          crab   0.250754  \n",
       "\n",
       "[147 rows x 4 columns]"
      ]
     },
     "execution_count": 90,
     "metadata": {},
     "output_type": "execute_result"
    }
   ],
   "source": [
    "df.rename(columns={0: \"N\", 1: \"instance_id\", 2:\"label\",3:\"similarity\"})"
   ]
  },
  {
   "cell_type": "code",
   "execution_count": 91,
   "metadata": {},
   "outputs": [],
   "source": [
    "df.to_csv('FULL_dis_DG.csv', index=True)"
   ]
  }
 ],
 "metadata": {
  "kernelspec": {
   "display_name": "Python 3",
   "language": "python",
   "name": "python3"
  },
  "language_info": {
   "codemirror_mode": {
    "name": "ipython",
    "version": 3
   },
   "file_extension": ".py",
   "mimetype": "text/x-python",
   "name": "python",
   "nbconvert_exporter": "python",
   "pygments_lexer": "ipython3",
   "version": "3.8.3"
  }
 },
 "nbformat": 4,
 "nbformat_minor": 4
}
